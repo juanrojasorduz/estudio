{
 "cells": [
  {
   "cell_type": "code",
   "execution_count": 1,
   "id": "47e83e95-9ff5-4a05-b903-f3854dd3eee6",
   "metadata": {},
   "outputs": [
    {
     "name": "stderr",
     "output_type": "stream",
     "text": [
      "25/07/05 17:41:10 WARN SparkSession: Using an existing Spark session; only runtime SQL configurations will take effect.\n"
     ]
    }
   ],
   "source": [
    "### Spark Imports\n",
    "import pyspark\n",
    "from delta import *\n",
    "from pyspark.sql.types import *\n",
    "from delta.tables import *\n",
    "from pyspark.sql.functions import *\n",
    "\n",
    "#  Create a spark session with Delta\n",
    "builder = pyspark.sql.SparkSession.builder.appName(\"DeltaTutorial\") \\\n",
    "    .config(\"spark.sql.extensions\", \"io.delta.sql.DeltaSparkSessionExtension\") \\\n",
    "    .config(\"spark.sql.catalog.spark_catalog\", \"org.apache.spark.sql.delta.catalog.DeltaCatalog\")\n",
    "\n",
    "# Create spark context\n",
    "spark = configure_spark_with_delta_pip(builder).getOrCreate()\n",
    "spark.sparkContext.setLogLevel(\"ERROR\")"
   ]
  },
  {
   "cell_type": "code",
   "execution_count": 2,
   "id": "c268aec6-ac0c-4799-822f-bfc539035e1a",
   "metadata": {},
   "outputs": [
    {
     "name": "stdout",
     "output_type": "stream",
     "text": [
      "Starting Delta table creation\n"
     ]
    },
    {
     "name": "stderr",
     "output_type": "stream",
     "text": [
      "                                                                                \r"
     ]
    }
   ],
   "source": [
    "# Create a spark dataframe and write as a delta table\n",
    "print(\"Starting Delta table creation\")\n",
    "\n",
    "data = [(\"Robert\", \"Baratheon\", \"Baratheon\", \"Storms End\", 48),\n",
    "        (\"Eddard\", \"Stark\", \"Stark\", \"Winterfell\", 46),\n",
    "        (\"Jamie\", \"Lannister\", \"Lannister\", \"Casterly Rock\", 29)\n",
    "        ]\n",
    "schema = StructType([\n",
    "    StructField(\"firstname\", StringType(), True),\n",
    "    StructField(\"lastname\", StringType(), True),\n",
    "    StructField(\"house\", StringType(), True),\n",
    "    StructField(\"location\", StringType(), True),\n",
    "    StructField(\"age\", IntegerType(), True)\n",
    "])\n",
    "\n",
    "sample_dataframe = spark.createDataFrame(data=data, schema=schema)\n",
    "sample_dataframe.write.mode(saveMode=\"overwrite\").format(\"delta\").save(\"/tmp/delta-table\")"
   ]
  },
  {
   "cell_type": "code",
   "execution_count": 3,
   "id": "3535f6f5-c369-41c3-81db-1d89f59a0255",
   "metadata": {},
   "outputs": [
    {
     "name": "stdout",
     "output_type": "stream",
     "text": [
      "Reading delta file ...!\n"
     ]
    },
    {
     "name": "stderr",
     "output_type": "stream",
     "text": [
      "                                                                                \r"
     ]
    },
    {
     "name": "stdout",
     "output_type": "stream",
     "text": [
      "+---------+---------+---------+-------------+---+\n",
      "|firstname| lastname|    house|     location|age|\n",
      "+---------+---------+---------+-------------+---+\n",
      "|    Jamie|Lannister|Lannister|Casterly Rock| 29|\n",
      "|   Robert|Baratheon|Baratheon|   Storms End| 48|\n",
      "|   Eddard|    Stark|    Stark|   Winterfell| 46|\n",
      "+---------+---------+---------+-------------+---+\n",
      "\n"
     ]
    }
   ],
   "source": [
    "# Read Data\n",
    "print(\"Reading delta file ...!\")\n",
    "\n",
    "got_df = spark.read.format(\"delta\").load(\"/tmp/delta-table\")\n",
    "got_df.show()"
   ]
  },
  {
   "cell_type": "code",
   "execution_count": 4,
   "id": "286d75de-fe85-4803-8d70-c04d81bca995",
   "metadata": {},
   "outputs": [
    {
     "name": "stdout",
     "output_type": "stream",
     "text": [
      "Updating Delta table...!\n"
     ]
    },
    {
     "name": "stderr",
     "output_type": "stream",
     "text": [
      "                                                                                \r"
     ]
    }
   ],
   "source": [
    "# Update data\n",
    "print(\"Updating Delta table...!\")\n",
    "data = [(\"Robert\", \"Baratheon\", \"Baratheon\", \"Storms End\", 49),\n",
    "        (\"Eddard\", \"Stark\", \"Stark\", \"Winterfell\", 47),\n",
    "        (\"Jamie\", \"Lannister\", \"Lannister\", \"Casterly Rock\", 30)\n",
    "        ]\n",
    "schema = StructType([\n",
    "    StructField(\"firstname\", StringType(), True),\n",
    "    StructField(\"lastname\", StringType(), True),\n",
    "    StructField(\"house\", StringType(), True),\n",
    "    StructField(\"location\", StringType(), True),\n",
    "    StructField(\"age\", IntegerType(), True)\n",
    "])\n",
    "sample_dataframe = spark.createDataFrame(data=data, schema=schema)\n",
    "sample_dataframe.write.mode(saveMode=\"overwrite\").format(\"delta\").save(\"/tmp/delta-table\")"
   ]
  },
  {
   "cell_type": "code",
   "execution_count": 5,
   "id": "d243f44a-e809-47a1-ac20-631f0e0c2b0c",
   "metadata": {},
   "outputs": [
    {
     "name": "stdout",
     "output_type": "stream",
     "text": [
      "Reading delta file ...!\n"
     ]
    },
    {
     "name": "stderr",
     "output_type": "stream",
     "text": [
      "[Stage 23:===================================================>    (46 + 4) / 50]\r"
     ]
    },
    {
     "name": "stdout",
     "output_type": "stream",
     "text": [
      "+---------+---------+---------+-------------+---+\n",
      "|firstname| lastname|    house|     location|age|\n",
      "+---------+---------+---------+-------------+---+\n",
      "|    Jamie|Lannister|Lannister|Casterly Rock| 30|\n",
      "|   Robert|Baratheon|Baratheon|   Storms End| 49|\n",
      "|   Eddard|    Stark|    Stark|   Winterfell| 47|\n",
      "+---------+---------+---------+-------------+---+\n",
      "\n"
     ]
    },
    {
     "name": "stderr",
     "output_type": "stream",
     "text": [
      "                                                                                \r"
     ]
    }
   ],
   "source": [
    "# Read Data\n",
    "print(\"Reading delta file ...!\")\n",
    "\n",
    "got_df = spark.read.format(\"delta\").load(\"/tmp/delta-table\")\n",
    "got_df.show()"
   ]
  },
  {
   "cell_type": "code",
   "execution_count": 6,
   "id": "8918f587-1daa-45d7-89de-2465e468b2fb",
   "metadata": {},
   "outputs": [
    {
     "name": "stdout",
     "output_type": "stream",
     "text": [
      "Update data...!\n",
      "+---------+---------+---------+-------------+---+\n",
      "|firstname| lastname|    house|     location|age|\n",
      "+---------+---------+---------+-------------+---+\n",
      "|    Jamie|Lannister|Lannister|Casterly Rock| 30|\n",
      "|   Robert|Baratheon|Baratheon|   Storms End| 49|\n",
      "|   Eddard|    Stark|    Stark|   Winterfell| 47|\n",
      "+---------+---------+---------+-------------+---+\n",
      "\n"
     ]
    },
    {
     "name": "stderr",
     "output_type": "stream",
     "text": [
      "                                                                                \r"
     ]
    },
    {
     "name": "stdout",
     "output_type": "stream",
     "text": [
      "+---------+---------+---------+-------------+---+\n",
      "|firstname| lastname|    house|     location|age|\n",
      "+---------+---------+---------+-------------+---+\n",
      "|    Jamie|Lannister|Lannister|Kings Landing| 37|\n",
      "|   Robert|Baratheon|Baratheon|   Storms End| 49|\n",
      "|   Eddard|    Stark|    Stark|   Winterfell| 47|\n",
      "+---------+---------+---------+-------------+---+\n",
      "\n"
     ]
    }
   ],
   "source": [
    "# Update data in Delta based on a condition\n",
    "print(\"Update data...!\")\n",
    "\n",
    "# delta table path\n",
    "deltaTable = DeltaTable.forPath(spark, \"/tmp/delta-table\")\n",
    "deltaTable.toDF().show()\n",
    "\n",
    "deltaTable.update(\n",
    "    condition=expr(\"firstname == 'Jamie'\"),\n",
    "    set={\"firstname\": lit(\"Jamie\"), \"lastname\": lit(\"Lannister\"), \"house\": lit(\"Lannister\"),\n",
    "         \"location\": lit(\"Kings Landing\"), \"age\": lit(37)})\n",
    "\n",
    "deltaTable.toDF().show()"
   ]
  },
  {
   "cell_type": "code",
   "execution_count": 7,
   "id": "55273404-b710-418e-b1c0-e3bd812c74e7",
   "metadata": {},
   "outputs": [
    {
     "name": "stdout",
     "output_type": "stream",
     "text": [
      "Upserting Data...!\n",
      "+---------+---------+---------+-------------+---+\n",
      "|firstname| lastname|    house|     location|age|\n",
      "+---------+---------+---------+-------------+---+\n",
      "|    Jamie|Lannister|Lannister|Kings Landing| 37|\n",
      "|   Robert|Baratheon|Baratheon|   Storms End| 49|\n",
      "|   Eddard|    Stark|    Stark|   Winterfell| 47|\n",
      "+---------+---------+---------+-------------+---+\n",
      "\n"
     ]
    },
    {
     "name": "stderr",
     "output_type": "stream",
     "text": [
      "                                                                                \r"
     ]
    },
    {
     "name": "stdout",
     "output_type": "stream",
     "text": [
      "+---------+---------+---------+-------------+---+\n",
      "|firstname| lastname|    house|     location|age|\n",
      "+---------+---------+---------+-------------+---+\n",
      "|   Gendry|Baratheon|Baratheon|Kings Landing| 19|\n",
      "|    Jamie|Lannister|Lannister|Casterly Rock| 36|\n",
      "|      Jon|     Snow|    Stark|   Winterfell| 21|\n",
      "|   Robert|Baratheon|Baratheon|   Storms End| 49|\n",
      "|   Eddard|    Stark|    Stark|   Winterfell| 47|\n",
      "+---------+---------+---------+-------------+---+\n",
      "\n"
     ]
    }
   ],
   "source": [
    "# Upsert Data\n",
    "print(\"Upserting Data...!\")\n",
    "# delta table path\n",
    "deltaTable = DeltaTable.forPath(spark, \"/tmp/delta-table\")\n",
    "deltaTable.toDF().show()\n",
    "\n",
    "# define new data\n",
    "data = [(\"Gendry\", \"Baratheon\", \"Baratheon\", \"Kings Landing\", 19),\n",
    "        (\"Jon\", \"Snow\", \"Stark\", \"Winterfell\", 21),\n",
    "        (\"Jamie\", \"Lannister\", \"Lannister\", \"Casterly Rock\", 36)\n",
    "        ]\n",
    "schema = StructType([\n",
    "    StructField(\"firstname\", StringType(), True),\n",
    "    StructField(\"lastname\", StringType(), True),\n",
    "    StructField(\"house\", StringType(), True),\n",
    "    StructField(\"location\", StringType(), True),\n",
    "    StructField(\"age\", IntegerType(), True)\n",
    "])\n",
    "\n",
    "newData = spark.createDataFrame(data=data, schema=schema)\n",
    "\n",
    "deltaTable.alias(\"oldData\") \\\n",
    "    .merge(\n",
    "    newData.alias(\"newData\"),\n",
    "    \"oldData.firstname = newData.firstname\") \\\n",
    "    .whenMatchedUpdate(\n",
    "    set={\"firstname\": col(\"newData.firstname\"), \"lastname\": col(\"newData.lastname\"), \"house\": col(\"newData.house\"),\n",
    "         \"location\": col(\"newData.location\"), \"age\": col(\"newData.age\")}) \\\n",
    "    .whenNotMatchedInsert(\n",
    "    values={\"firstname\": col(\"newData.firstname\"), \"lastname\": col(\"newData.lastname\"), \"house\": col(\"newData.house\"),\n",
    "            \"location\": col(\"newData.location\"), \"age\": col(\"newData.age\")}) \\\n",
    "    .execute()\n",
    "\n",
    "deltaTable.toDF().show()"
   ]
  },
  {
   "cell_type": "code",
   "execution_count": 8,
   "id": "6a56c875-7da4-4397-a60c-265069d2eb2a",
   "metadata": {},
   "outputs": [
    {
     "name": "stdout",
     "output_type": "stream",
     "text": [
      "Deleting data...!\n",
      "+---------+---------+---------+-------------+---+\n",
      "|firstname| lastname|    house|     location|age|\n",
      "+---------+---------+---------+-------------+---+\n",
      "|   Gendry|Baratheon|Baratheon|Kings Landing| 19|\n",
      "|    Jamie|Lannister|Lannister|Casterly Rock| 36|\n",
      "|      Jon|     Snow|    Stark|   Winterfell| 21|\n",
      "|   Robert|Baratheon|Baratheon|   Storms End| 49|\n",
      "|   Eddard|    Stark|    Stark|   Winterfell| 47|\n",
      "+---------+---------+---------+-------------+---+\n",
      "\n"
     ]
    },
    {
     "name": "stderr",
     "output_type": "stream",
     "text": [
      "                                                                                \r"
     ]
    },
    {
     "name": "stdout",
     "output_type": "stream",
     "text": [
      "+---------+---------+---------+-------------+---+\n",
      "|firstname| lastname|    house|     location|age|\n",
      "+---------+---------+---------+-------------+---+\n",
      "|   Robert|Baratheon|Baratheon|   Storms End| 49|\n",
      "|   Eddard|    Stark|    Stark|   Winterfell| 47|\n",
      "|    Jamie|Lannister|Lannister|Casterly Rock| 36|\n",
      "|      Jon|     Snow|    Stark|   Winterfell| 21|\n",
      "+---------+---------+---------+-------------+---+\n",
      "\n"
     ]
    }
   ],
   "source": [
    "# Delete Data\n",
    "print(\"Deleting data...!\")\n",
    "\n",
    "# delta table path\n",
    "deltaTable = DeltaTable.forPath(spark, \"/tmp/delta-table\")\n",
    "deltaTable.toDF().show()\n",
    "\n",
    "deltaTable.delete(condition=expr(\"firstname == 'Gendry'\"))\n",
    "\n",
    "deltaTable.toDF().show()"
   ]
  },
  {
   "cell_type": "code",
   "execution_count": 9,
   "id": "60e9a7c2-394a-470c-8e0d-273f753b4140",
   "metadata": {},
   "outputs": [
    {
     "name": "stdout",
     "output_type": "stream",
     "text": [
      "Read old data...!\n"
     ]
    },
    {
     "name": "stderr",
     "output_type": "stream",
     "text": [
      "                                                                                \r"
     ]
    },
    {
     "name": "stdout",
     "output_type": "stream",
     "text": [
      "+---------+---------+---------+-------------+---+\n",
      "|firstname| lastname|    house|     location|age|\n",
      "+---------+---------+---------+-------------+---+\n",
      "|    Jamie|Lannister|Lannister|Casterly Rock| 29|\n",
      "|   Robert|Baratheon|Baratheon|   Storms End| 48|\n",
      "|   Eddard|    Stark|    Stark|   Winterfell| 46|\n",
      "+---------+---------+---------+-------------+---+\n",
      "\n"
     ]
    },
    {
     "name": "stderr",
     "output_type": "stream",
     "text": [
      "[Stage 114:========================================>              (37 + 4) / 50]\r"
     ]
    },
    {
     "name": "stdout",
     "output_type": "stream",
     "text": [
      "+---------+---------+---------+-------------+---+\n",
      "|firstname| lastname|    house|     location|age|\n",
      "+---------+---------+---------+-------------+---+\n",
      "|    Jamie|Lannister|Lannister|Casterly Rock| 30|\n",
      "|   Robert|Baratheon|Baratheon|   Storms End| 49|\n",
      "|   Eddard|    Stark|    Stark|   Winterfell| 47|\n",
      "+---------+---------+---------+-------------+---+\n",
      "\n"
     ]
    },
    {
     "name": "stderr",
     "output_type": "stream",
     "text": [
      "                                                                                \r"
     ]
    }
   ],
   "source": [
    "# Reading Older version of Data\n",
    "print(\"Read old data...!\")\n",
    "\n",
    "df_versionzero = spark.read.format(\"delta\").option(\"versionAsOf\", 0).load(\"/tmp/delta-table\")\n",
    "df_versionzero.show()\n",
    "\n",
    "df_versionzone = spark.read.format(\"delta\").option(\"versionAsOf\", 1).load(\"/tmp/delta-table\")\n",
    "df_versionzone.show()"
   ]
  },
  {
   "cell_type": "code",
   "execution_count": 10,
   "id": "8ec48b56-12b1-4b84-b7ed-b6f598423f7b",
   "metadata": {},
   "outputs": [
    {
     "name": "stderr",
     "output_type": "stream",
     "text": [
      "                                                                                \r"
     ]
    },
    {
     "name": "stdout",
     "output_type": "stream",
     "text": [
      "+---------+---------+---------+-------------+---+\n",
      "|firstname| lastname|    house|     location|age|\n",
      "+---------+---------+---------+-------------+---+\n",
      "|    Jamie|Lannister|Lannister|Kings Landing| 37|\n",
      "|   Robert|Baratheon|Baratheon|   Storms End| 49|\n",
      "|   Eddard|    Stark|    Stark|   Winterfell| 47|\n",
      "+---------+---------+---------+-------------+---+\n",
      "\n"
     ]
    }
   ],
   "source": [
    "df_versionzone = spark.read.format(\"delta\").option(\"versionAsOf\", 2).load(\"/tmp/delta-table\")\n",
    "df_versionzone.show()"
   ]
  },
  {
   "cell_type": "code",
   "execution_count": 11,
   "id": "3dc03a0e-5745-4a70-97e6-e740ccf853f9",
   "metadata": {},
   "outputs": [
    {
     "name": "stderr",
     "output_type": "stream",
     "text": [
      "                                                                                \r"
     ]
    },
    {
     "name": "stdout",
     "output_type": "stream",
     "text": [
      "+---------+---------+---------+-------------+---+\n",
      "|firstname| lastname|    house|     location|age|\n",
      "+---------+---------+---------+-------------+---+\n",
      "|   Gendry|Baratheon|Baratheon|Kings Landing| 19|\n",
      "|    Jamie|Lannister|Lannister|Casterly Rock| 36|\n",
      "|      Jon|     Snow|    Stark|   Winterfell| 21|\n",
      "|   Robert|Baratheon|Baratheon|   Storms End| 49|\n",
      "|   Eddard|    Stark|    Stark|   Winterfell| 47|\n",
      "+---------+---------+---------+-------------+---+\n",
      "\n"
     ]
    }
   ],
   "source": [
    "df_versionzone = spark.read.format(\"delta\").option(\"versionAsOf\", 3).load(\"/tmp/delta-table\")\n",
    "df_versionzone.show()"
   ]
  },
  {
   "cell_type": "code",
   "execution_count": 12,
   "id": "7f676c05-2d0b-48d8-9dba-e942395dac3d",
   "metadata": {},
   "outputs": [
    {
     "name": "stdout",
     "output_type": "stream",
     "text": [
      "+---------+---------+---------+-------------+---+\n",
      "|firstname| lastname|    house|     location|age|\n",
      "+---------+---------+---------+-------------+---+\n",
      "|   Robert|Baratheon|Baratheon|   Storms End| 49|\n",
      "|   Eddard|    Stark|    Stark|   Winterfell| 47|\n",
      "|    Jamie|Lannister|Lannister|Casterly Rock| 36|\n",
      "|      Jon|     Snow|    Stark|   Winterfell| 21|\n",
      "+---------+---------+---------+-------------+---+\n",
      "\n"
     ]
    }
   ],
   "source": [
    "df_versionzone = spark.read.format(\"delta\").option(\"versionAsOf\", 4).load(\"/tmp/delta-table\")\n",
    "df_versionzone.show()"
   ]
  },
  {
   "cell_type": "code",
   "execution_count": null,
   "id": "49bf96b8-6b14-436f-ac24-6f60562865b1",
   "metadata": {},
   "outputs": [],
   "source": []
  }
 ],
 "metadata": {
  "kernelspec": {
   "display_name": "Python 3 (ipykernel)",
   "language": "python",
   "name": "python3"
  },
  "language_info": {
   "codemirror_mode": {
    "name": "ipython",
    "version": 3
   },
   "file_extension": ".py",
   "mimetype": "text/x-python",
   "name": "python",
   "nbconvert_exporter": "python",
   "pygments_lexer": "ipython3",
   "version": "3.8.10"
  }
 },
 "nbformat": 4,
 "nbformat_minor": 5
}
